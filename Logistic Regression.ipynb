{
  "nbformat": 4,
  "nbformat_minor": 0,
  "metadata": {
    "colab": {
      "provenance": [],
      "authorship_tag": "ABX9TyM5Obzxjd77hDTK1lbyguu8",
      "include_colab_link": true
    },
    "kernelspec": {
      "name": "python3",
      "display_name": "Python 3"
    },
    "language_info": {
      "name": "python"
    }
  },
  "cells": [
    {
      "cell_type": "markdown",
      "metadata": {
        "id": "view-in-github",
        "colab_type": "text"
      },
      "source": [
        "<a href=\"https://colab.research.google.com/github/Shaik2605/4252_AIML/blob/main/Logistic%20Regression.ipynb\" target=\"_parent\"><img src=\"https://colab.research.google.com/assets/colab-badge.svg\" alt=\"Open In Colab\"/></a>"
      ]
    },
    {
      "cell_type": "code",
      "execution_count": 11,
      "metadata": {
        "id": "GLjvRtUZetlt"
      },
      "outputs": [],
      "source": [
        "# importing libraries\n",
        "import pandas as pd\n",
        "from sklearn.model_selection import train_test_split\n",
        "from sklearn.preprocessing import StandardScaler, OneHotEncoder\n",
        "from sklearn.feature_selection import SelectKBest, f_classif\n",
        "from sklearn.feature_selection import chi2\n",
        "from sklearn.feature_selection import VarianceThreshold\n",
        "from sklearn.linear_model import LogisticRegression\n",
        "from sklearn.preprocessing import StandardScaler\n",
        "from sklearn.metrics import accuracy_score, confusion_matrix, classification_report"
      ]
    },
    {
      "cell_type": "code",
      "source": [
        "# Load the dataset\n",
        "data = pd.read_csv(\"data.csv\")\n",
        "\n",
        "# Handling missing values\n",
        "data['bmi'].fillna(data['bmi'].mean(), inplace=True)"
      ],
      "metadata": {
        "id": "vq2qoX3jfDmi"
      },
      "execution_count": 12,
      "outputs": []
    },
    {
      "cell_type": "code",
      "source": [
        "# Encode categorical variables\n",
        "encoder = OneHotEncoder(drop='first')\n",
        "categorical_cols = ['gender', 'ever_married', 'work_type', 'Residence_type', 'smoking_status']\n",
        "encoded_features = encoder.fit_transform(data[categorical_cols]).toarray()\n",
        "\n",
        "# Get feature names after one-hot encoding\n",
        "feature_names_encoded = encoder.get_feature_names_out(input_features=categorical_cols)\n",
        "\n",
        "# Combine encoded features with numerical features\n",
        "numerical_cols = ['age', 'hypertension', 'heart_disease', 'avg_glucose_level', 'bmi']\n",
        "X_numerical = data[numerical_cols]\n",
        "X_encoded = pd.DataFrame(encoded_features, columns=feature_names_encoded)\n",
        "X = pd.concat([X_numerical, X_encoded], axis=1)\n",
        "\n",
        "# Target variable\n",
        "y = data['stroke']"
      ],
      "metadata": {
        "id": "s1kZVv25h-P7"
      },
      "execution_count": 13,
      "outputs": []
    },
    {
      "cell_type": "code",
      "source": [
        "# Split the data into training and testing sets\n",
        "X_train, X_test, y_train, y_test = train_test_split(X, y, test_size=0.2, random_state=42)"
      ],
      "metadata": {
        "id": "sBHmSzdNiKLU"
      },
      "execution_count": 14,
      "outputs": []
    },
    {
      "cell_type": "code",
      "source": [
        "# Remove constant/near-constant features\n",
        "constant_filter = VarianceThreshold(threshold=0.01)\n",
        "X_train_filtered = constant_filter.fit_transform(X_train)\n",
        "X_test_filtered = constant_filter.transform(X_test)\n",
        "\n",
        "# Scaling data\n",
        "scaler = StandardScaler()\n",
        "X_train_scaled = scaler.fit_transform(X_train_filtered)\n",
        "X_test_scaled = scaler.transform(X_test_filtered)\n"
      ],
      "metadata": {
        "id": "SG2hdOJ4iTA1"
      },
      "execution_count": 15,
      "outputs": []
    },
    {
      "cell_type": "code",
      "source": [
        "# Applying logistic regression\n",
        "logreg_model = LogisticRegression(max_iter=1000)\n",
        "logreg_model.fit(X_train_scaled, y_train)\n",
        "\n",
        "# Make predictions\n",
        "y_pred = logreg_model.predict(X_test_scaled)\n"
      ],
      "metadata": {
        "id": "Bn8tBb4BiYaH"
      },
      "execution_count": 16,
      "outputs": []
    },
    {
      "cell_type": "code",
      "source": [
        "# Calculate accuracy\n",
        "accuracy = accuracy_score(y_test, y_pred)\n",
        "print(\"Accuracy:\", accuracy)\n",
        "\n",
        "# Confusion matrix\n",
        "conf_matrix = confusion_matrix(y_test, y_pred)\n",
        "print(\"Confusion Matrix:\\n\", conf_matrix)\n",
        "\n",
        "# Classification report\n",
        "class_report = classification_report(y_test, y_pred)\n",
        "print(\"Classification Report:\\n\", class_report)\n"
      ],
      "metadata": {
        "colab": {
          "base_uri": "https://localhost:8080/"
        },
        "id": "X3GXCWctidaL",
        "outputId": "f55b81c6-54fd-4a7a-babe-e710576aa747"
      },
      "execution_count": 17,
      "outputs": [
        {
          "output_type": "stream",
          "name": "stdout",
          "text": [
            "Accuracy: 0.9393346379647749\n",
            "Confusion Matrix:\n",
            " [[960   0]\n",
            " [ 62   0]]\n",
            "Classification Report:\n",
            "               precision    recall  f1-score   support\n",
            "\n",
            "           0       0.94      1.00      0.97       960\n",
            "           1       0.00      0.00      0.00        62\n",
            "\n",
            "    accuracy                           0.94      1022\n",
            "   macro avg       0.47      0.50      0.48      1022\n",
            "weighted avg       0.88      0.94      0.91      1022\n",
            "\n"
          ]
        },
        {
          "output_type": "stream",
          "name": "stderr",
          "text": [
            "/usr/local/lib/python3.10/dist-packages/sklearn/metrics/_classification.py:1344: UndefinedMetricWarning: Precision and F-score are ill-defined and being set to 0.0 in labels with no predicted samples. Use `zero_division` parameter to control this behavior.\n",
            "  _warn_prf(average, modifier, msg_start, len(result))\n",
            "/usr/local/lib/python3.10/dist-packages/sklearn/metrics/_classification.py:1344: UndefinedMetricWarning: Precision and F-score are ill-defined and being set to 0.0 in labels with no predicted samples. Use `zero_division` parameter to control this behavior.\n",
            "  _warn_prf(average, modifier, msg_start, len(result))\n",
            "/usr/local/lib/python3.10/dist-packages/sklearn/metrics/_classification.py:1344: UndefinedMetricWarning: Precision and F-score are ill-defined and being set to 0.0 in labels with no predicted samples. Use `zero_division` parameter to control this behavior.\n",
            "  _warn_prf(average, modifier, msg_start, len(result))\n"
          ]
        }
      ]
    }
  ]
}